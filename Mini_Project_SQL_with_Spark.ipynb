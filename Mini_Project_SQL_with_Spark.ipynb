{
 "cells": [
  {
   "cell_type": "markdown",
   "metadata": {
    "application/vnd.databricks.v1+cell": {
     "inputWidgets": {},
     "nuid": "514f862e-59c4-4ebb-a650-0339570c9fac",
     "showTitle": false,
     "title": ""
    }
   },
   "source": [
    "## SQL at Scale with Spark SQL\n",
    "\n",
    "Welcome to the SQL mini project. For this project, you will use the Databricks Platform and work through a series of exercises using Spark SQL. The dataset size may not be too big but the intent here is to familiarize yourself with the Spark SQL interface which scales easily to huge datasets, without you having to worry about changing your SQL queries. \n",
    "\n",
    "The data you need is present in the mini-project folder in the form of three CSV files. This data will be imported in Databricks to create the following tables under the __`country_club`__ database.\n",
    "\n",
    "<br>\n",
    "1. The __`bookings`__ table,\n",
    "2. The __`facilities`__ table, and\n",
    "3. The __`members`__ table.\n",
    "\n",
    "You will be uploading these datasets shortly into the Databricks platform to understand how to create a database within minutes! Once the database and the tables are populated, you will be focusing on the mini-project questions.\n",
    "\n",
    "In the mini project, you'll be asked a series of questions. You can solve them using the databricks platform, but for the final deliverable,\n",
    "please download this notebook as an IPython notebook (__`File -> Export -> IPython Notebook`__) and upload it to your GitHub."
   ]
  },
  {
   "cell_type": "markdown",
   "metadata": {
    "application/vnd.databricks.v1+cell": {
     "inputWidgets": {},
     "nuid": "162eec80-733f-4cc9-9d62-641af978e8c3",
     "showTitle": false,
     "title": ""
    }
   },
   "source": [
    "### Creating the Database\n",
    "\n",
    "We will first create our database in which we will be creating our three tables of interest"
   ]
  },
  {
   "cell_type": "code",
   "execution_count": 0,
   "metadata": {
    "application/vnd.databricks.v1+cell": {
     "inputWidgets": {},
     "nuid": "cefba27e-d450-4f1e-93d4-3c5f20f2562d",
     "showTitle": false,
     "title": ""
    }
   },
   "outputs": [
    {
     "data": {
      "text/html": [
       "<style scoped>\n",
       "  .table-result-container {\n",
       "    max-height: 300px;\n",
       "    overflow: auto;\n",
       "  }\n",
       "  table, th, td {\n",
       "    border: 1px solid black;\n",
       "    border-collapse: collapse;\n",
       "  }\n",
       "  th, td {\n",
       "    padding: 5px;\n",
       "  }\n",
       "  th {\n",
       "    text-align: left;\n",
       "  }\n",
       "</style><div class='table-result-container'><table class='table-result'><thead style='background-color: white'><tr><th>databaseName</th></tr></thead><tbody><tr><td>country_club</td></tr><tr><td>default</td></tr></tbody></table></div>"
      ]
     },
     "metadata": {
      "application/vnd.databricks.v1+output": {
       "addedWidgets": {},
       "aggData": [],
       "aggError": "",
       "aggOverflow": false,
       "aggSchema": [],
       "aggSeriesLimitReached": false,
       "aggType": "",
       "arguments": {},
       "columnCustomDisplayInfos": {},
       "data": [
        [
         "country_club"
        ],
        [
         "default"
        ]
       ],
       "datasetInfos": [],
       "dbfsResultPath": null,
       "isJsonSchema": true,
       "metadata": {},
       "overflow": false,
       "plotOptions": {
        "customPlotOptions": {},
        "displayType": "table",
        "pivotAggregation": null,
        "pivotColumns": [],
        "xColumns": [],
        "yColumns": []
       },
       "removedWidgets": [],
       "schema": [
        {
         "metadata": "{}",
         "name": "databaseName",
         "type": "\"string\""
        }
       ],
       "type": "table"
      }
     },
     "output_type": "display_data"
    }
   ],
   "source": [
    "%sql \n",
    "drop database if exists country_club cascade;\n",
    "create database country_club;\n",
    "show databases;"
   ]
  },
  {
   "cell_type": "markdown",
   "metadata": {
    "application/vnd.databricks.v1+cell": {
     "inputWidgets": {},
     "nuid": "3066fdef-47d1-4655-b3cf-9026f07fdc6a",
     "showTitle": false,
     "title": ""
    }
   },
   "source": [
    "### Creating the Tables\n",
    "\n",
    "In this section, we will be creating the three tables of interest and populate them with the data from the CSV files already available to you. \n",
    "To get started, first upload the three CSV files to the DBFS as depicted in the following figure\n",
    "\n",
    "![](https://i.imgur.com/QcCruBr.png)\n",
    "\n",
    "\n",
    "Once you have done this, please remember to execute the following code to build the dataframes which will be saved as tables in our database"
   ]
  },
  {
   "cell_type": "code",
   "execution_count": 0,
   "metadata": {
    "application/vnd.databricks.v1+cell": {
     "inputWidgets": {},
     "nuid": "cc620e0c-ec51-4eea-9b96-13d17132fd58",
     "showTitle": false,
     "title": ""
    }
   },
   "outputs": [
    {
     "data": {
      "text/html": [
       "<style scoped>\n",
       "  .ansiout {\n",
       "    display: block;\n",
       "    unicode-bidi: embed;\n",
       "    white-space: pre-wrap;\n",
       "    word-wrap: break-word;\n",
       "    word-break: break-all;\n",
       "    font-family: \"Source Code Pro\", \"Menlo\", monospace;;\n",
       "    font-size: 13px;\n",
       "    color: #555;\n",
       "    margin-left: 4px;\n",
       "    line-height: 19px;\n",
       "  }\n",
       "</style>\n",
       "<div class=\"ansiout\"></div>"
      ]
     },
     "metadata": {
      "application/vnd.databricks.v1+output": {
       "addedWidgets": {},
       "arguments": {},
       "data": "<div class=\"ansiout\"></div>",
       "datasetInfos": [],
       "metadata": {},
       "removedWidgets": [],
       "type": "html"
      }
     },
     "output_type": "display_data"
    }
   ],
   "source": [
    "# File location and type\n",
    "file_location_bookings = \"/FileStore/tables/Bookings.csv\"\n",
    "file_location_facilities = \"/FileStore/tables/Facilities.csv\"\n",
    "file_location_members = \"/FileStore/tables/Members.csv\"\n",
    "\n",
    "file_type = \"csv\"\n",
    "\n",
    "# CSV options\n",
    "infer_schema = \"true\"\n",
    "first_row_is_header = \"true\"\n",
    "delimiter = \",\"\n",
    "\n",
    "# The applied options are for CSV files. For other file types, these will be ignored.\n",
    "bookings_df = (spark.read.format(file_type) \n",
    "                    .option(\"inferSchema\", infer_schema) \n",
    "                    .option(\"header\", first_row_is_header) \n",
    "                    .option(\"sep\", delimiter) \n",
    "                    .load(file_location_bookings))\n",
    "\n",
    "facilities_df = (spark.read.format(file_type) \n",
    "                      .option(\"inferSchema\", infer_schema) \n",
    "                      .option(\"header\", first_row_is_header) \n",
    "                      .option(\"sep\", delimiter) \n",
    "                      .load(file_location_facilities))\n",
    "\n",
    "members_df = (spark.read.format(file_type) \n",
    "                      .option(\"inferSchema\", infer_schema) \n",
    "                      .option(\"header\", first_row_is_header) \n",
    "                      .option(\"sep\", delimiter) \n",
    "                      .load(file_location_members))"
   ]
  },
  {
   "cell_type": "markdown",
   "metadata": {
    "application/vnd.databricks.v1+cell": {
     "inputWidgets": {},
     "nuid": "89298571-fa04-496c-b598-970ff22da3c3",
     "showTitle": false,
     "title": ""
    }
   },
   "source": [
    "### Viewing the dataframe schemas\n",
    "\n",
    "We can take a look at the schemas of our potential tables to be written to our database soon"
   ]
  },
  {
   "cell_type": "code",
   "execution_count": 0,
   "metadata": {
    "application/vnd.databricks.v1+cell": {
     "inputWidgets": {},
     "nuid": "9c6100af-8cbc-4ae8-b5b2-8860963c0b72",
     "showTitle": false,
     "title": ""
    }
   },
   "outputs": [
    {
     "data": {
      "text/html": [
       "<style scoped>\n",
       "  .ansiout {\n",
       "    display: block;\n",
       "    unicode-bidi: embed;\n",
       "    white-space: pre-wrap;\n",
       "    word-wrap: break-word;\n",
       "    word-break: break-all;\n",
       "    font-family: \"Source Code Pro\", \"Menlo\", monospace;;\n",
       "    font-size: 13px;\n",
       "    color: #555;\n",
       "    margin-left: 4px;\n",
       "    line-height: 19px;\n",
       "  }\n",
       "</style>\n",
       "<div class=\"ansiout\">Bookings Schema\n",
       "root\n",
       "-- bookid: integer (nullable = true)\n",
       "-- facid: integer (nullable = true)\n",
       "-- memid: integer (nullable = true)\n",
       "-- starttime: string (nullable = true)\n",
       "-- slots: integer (nullable = true)\n",
       "\n",
       "Facilities Schema\n",
       "root\n",
       "-- facid: integer (nullable = true)\n",
       "-- name: string (nullable = true)\n",
       "-- membercost: double (nullable = true)\n",
       "-- guestcost: double (nullable = true)\n",
       "-- initialoutlay: integer (nullable = true)\n",
       "-- monthlymaintenance: integer (nullable = true)\n",
       "\n",
       "Members Schema\n",
       "root\n",
       "-- memid: integer (nullable = true)\n",
       "-- surname: string (nullable = true)\n",
       "-- firstname: string (nullable = true)\n",
       "-- address: string (nullable = true)\n",
       "-- zipcode: integer (nullable = true)\n",
       "-- telephone: string (nullable = true)\n",
       "-- recommendedby: integer (nullable = true)\n",
       "-- joindate: string (nullable = true)\n",
       "\n",
       "</div>"
      ]
     },
     "metadata": {
      "application/vnd.databricks.v1+output": {
       "addedWidgets": {},
       "arguments": {},
       "data": "<div class=\"ansiout\">Bookings Schema\nroot\n |-- bookid: integer (nullable = true)\n |-- facid: integer (nullable = true)\n |-- memid: integer (nullable = true)\n |-- starttime: string (nullable = true)\n |-- slots: integer (nullable = true)\n\nFacilities Schema\nroot\n |-- facid: integer (nullable = true)\n |-- name: string (nullable = true)\n |-- membercost: double (nullable = true)\n |-- guestcost: double (nullable = true)\n |-- initialoutlay: integer (nullable = true)\n |-- monthlymaintenance: integer (nullable = true)\n\nMembers Schema\nroot\n |-- memid: integer (nullable = true)\n |-- surname: string (nullable = true)\n |-- firstname: string (nullable = true)\n |-- address: string (nullable = true)\n |-- zipcode: integer (nullable = true)\n |-- telephone: string (nullable = true)\n |-- recommendedby: integer (nullable = true)\n |-- joindate: string (nullable = true)\n\n</div>",
       "datasetInfos": [],
       "metadata": {},
       "removedWidgets": [],
       "type": "html"
      }
     },
     "output_type": "display_data"
    }
   ],
   "source": [
    "print('Bookings Schema')\n",
    "bookings_df.printSchema()\n",
    "print('Facilities Schema')\n",
    "facilities_df.printSchema()\n",
    "print('Members Schema')\n",
    "members_df.printSchema()"
   ]
  },
  {
   "cell_type": "markdown",
   "metadata": {
    "application/vnd.databricks.v1+cell": {
     "inputWidgets": {},
     "nuid": "d8782d0b-101f-4725-a5ba-dc65d5612570",
     "showTitle": false,
     "title": ""
    }
   },
   "source": [
    "### Create permanent tables\n",
    "We will be creating three permanent tables here in our __`country_club`__ database as we discussed previously with the following code"
   ]
  },
  {
   "cell_type": "code",
   "execution_count": 0,
   "metadata": {
    "application/vnd.databricks.v1+cell": {
     "inputWidgets": {},
     "nuid": "502d5efa-e6d6-46cb-a4b3-41a5547f8112",
     "showTitle": false,
     "title": ""
    }
   },
   "outputs": [
    {
     "data": {
      "text/html": [
       "<style scoped>\n",
       "  .ansiout {\n",
       "    display: block;\n",
       "    unicode-bidi: embed;\n",
       "    white-space: pre-wrap;\n",
       "    word-wrap: break-word;\n",
       "    word-break: break-all;\n",
       "    font-family: \"Source Code Pro\", \"Menlo\", monospace;;\n",
       "    font-size: 13px;\n",
       "    color: #555;\n",
       "    margin-left: 4px;\n",
       "    line-height: 19px;\n",
       "  }\n",
       "</style>\n",
       "<div class=\"ansiout\"></div>"
      ]
     },
     "metadata": {
      "application/vnd.databricks.v1+output": {
       "addedWidgets": {},
       "arguments": {},
       "data": "<div class=\"ansiout\"></div>",
       "datasetInfos": [],
       "metadata": {},
       "removedWidgets": [],
       "type": "html"
      }
     },
     "output_type": "display_data"
    }
   ],
   "source": [
    "spark.conf.set(\"spark.sql.legacy.allowCreatingManagedTableUsingNonemptyLocation\", \"true\")\n",
    "permanent_table_name_bookings = \"country_club.Bookings\"\n",
    "bookings_df.write.format(\"parquet\").saveAsTable(permanent_table_name_bookings)\n",
    "\n",
    "permanent_table_name_facilities = \"country_club.Facilities\"\n",
    "facilities_df.write.format(\"parquet\").saveAsTable(permanent_table_name_facilities)\n",
    "\n",
    "permanent_table_name_members = \"country_club.Members\"\n",
    "members_df.write.format(\"parquet\").saveAsTable(permanent_table_name_members)"
   ]
  },
  {
   "cell_type": "markdown",
   "metadata": {
    "application/vnd.databricks.v1+cell": {
     "inputWidgets": {},
     "nuid": "e2fcdc5a-afdf-463f-b539-c16f0895752a",
     "showTitle": false,
     "title": ""
    }
   },
   "source": [
    "### Refresh tables and check them"
   ]
  },
  {
   "cell_type": "code",
   "execution_count": 0,
   "metadata": {
    "application/vnd.databricks.v1+cell": {
     "inputWidgets": {},
     "nuid": "c353fc68-b9dd-416a-abfd-273ef6a60328",
     "showTitle": false,
     "title": ""
    }
   },
   "outputs": [
    {
     "data": {
      "text/html": [
       "<style scoped>\n",
       "  .table-result-container {\n",
       "    max-height: 300px;\n",
       "    overflow: auto;\n",
       "  }\n",
       "  table, th, td {\n",
       "    border: 1px solid black;\n",
       "    border-collapse: collapse;\n",
       "  }\n",
       "  th, td {\n",
       "    padding: 5px;\n",
       "  }\n",
       "  th {\n",
       "    text-align: left;\n",
       "  }\n",
       "</style><div class='table-result-container'><table class='table-result'><thead style='background-color: white'><tr><th>database</th><th>tableName</th><th>isTemporary</th></tr></thead><tbody><tr><td>country_club</td><td>bookings</td><td>false</td></tr><tr><td>country_club</td><td>facilities</td><td>false</td></tr><tr><td>country_club</td><td>members</td><td>false</td></tr></tbody></table></div>"
      ]
     },
     "metadata": {
      "application/vnd.databricks.v1+output": {
       "addedWidgets": {},
       "aggData": [],
       "aggError": "",
       "aggOverflow": false,
       "aggSchema": [],
       "aggSeriesLimitReached": false,
       "aggType": "",
       "arguments": {},
       "columnCustomDisplayInfos": {},
       "data": [
        [
         "country_club",
         "bookings",
         false
        ],
        [
         "country_club",
         "facilities",
         false
        ],
        [
         "country_club",
         "members",
         false
        ]
       ],
       "datasetInfos": [],
       "dbfsResultPath": null,
       "isJsonSchema": true,
       "metadata": {},
       "overflow": false,
       "plotOptions": {
        "customPlotOptions": {},
        "displayType": "table",
        "pivotAggregation": null,
        "pivotColumns": [],
        "xColumns": [],
        "yColumns": []
       },
       "removedWidgets": [],
       "schema": [
        {
         "metadata": "{}",
         "name": "database",
         "type": "\"string\""
        },
        {
         "metadata": "{}",
         "name": "tableName",
         "type": "\"string\""
        },
        {
         "metadata": "{}",
         "name": "isTemporary",
         "type": "\"boolean\""
        }
       ],
       "type": "table"
      }
     },
     "output_type": "display_data"
    }
   ],
   "source": [
    "%sql\n",
    "use country_club;\n",
    "REFRESH table bookings;\n",
    "REFRESH table facilities;\n",
    "REFRESH table members;\n",
    "show tables;"
   ]
  },
  {
   "cell_type": "markdown",
   "metadata": {
    "application/vnd.databricks.v1+cell": {
     "inputWidgets": {},
     "nuid": "fad88ed7-39bd-4df4-bd78-a3728baaff49",
     "showTitle": false,
     "title": ""
    }
   },
   "source": [
    "### Test a sample SQL query\n",
    "\n",
    "__Note:__ You can use __`%sql`__ at the beginning of a cell and write SQL queries directly as seen in the following cell. Neat isn't it!"
   ]
  },
  {
   "cell_type": "code",
   "execution_count": 0,
   "metadata": {
    "application/vnd.databricks.v1+cell": {
     "inputWidgets": {},
     "nuid": "68e5922d-ed23-4951-bbbd-7e237757f472",
     "showTitle": false,
     "title": ""
    }
   },
   "outputs": [
    {
     "data": {
      "text/html": [
       "<style scoped>\n",
       "  .table-result-container {\n",
       "    max-height: 300px;\n",
       "    overflow: auto;\n",
       "  }\n",
       "  table, th, td {\n",
       "    border: 1px solid black;\n",
       "    border-collapse: collapse;\n",
       "  }\n",
       "  th, td {\n",
       "    padding: 5px;\n",
       "  }\n",
       "  th {\n",
       "    text-align: left;\n",
       "  }\n",
       "</style><div class='table-result-container'><table class='table-result'><thead style='background-color: white'><tr><th>bookid</th><th>facid</th><th>memid</th><th>starttime</th><th>slots</th></tr></thead><tbody><tr><td>0</td><td>3</td><td>1</td><td>2012-07-03 11:00:00</td><td>2</td></tr><tr><td>1</td><td>4</td><td>1</td><td>2012-07-03 08:00:00</td><td>2</td></tr><tr><td>2</td><td>6</td><td>0</td><td>2012-07-03 18:00:00</td><td>2</td></tr></tbody></table></div>"
      ]
     },
     "metadata": {
      "application/vnd.databricks.v1+output": {
       "addedWidgets": {},
       "aggData": [],
       "aggError": "",
       "aggOverflow": false,
       "aggSchema": [],
       "aggSeriesLimitReached": false,
       "aggType": "",
       "arguments": {},
       "columnCustomDisplayInfos": {},
       "data": [
        [
         0,
         3,
         1,
         "2012-07-03 11:00:00",
         2
        ],
        [
         1,
         4,
         1,
         "2012-07-03 08:00:00",
         2
        ],
        [
         2,
         6,
         0,
         "2012-07-03 18:00:00",
         2
        ]
       ],
       "datasetInfos": [],
       "dbfsResultPath": null,
       "isJsonSchema": true,
       "metadata": {},
       "overflow": false,
       "plotOptions": {
        "customPlotOptions": {},
        "displayType": "table",
        "pivotAggregation": null,
        "pivotColumns": [],
        "xColumns": [],
        "yColumns": []
       },
       "removedWidgets": [],
       "schema": [
        {
         "metadata": "{}",
         "name": "bookid",
         "type": "\"integer\""
        },
        {
         "metadata": "{}",
         "name": "facid",
         "type": "\"integer\""
        },
        {
         "metadata": "{}",
         "name": "memid",
         "type": "\"integer\""
        },
        {
         "metadata": "{}",
         "name": "starttime",
         "type": "\"string\""
        },
        {
         "metadata": "{}",
         "name": "slots",
         "type": "\"integer\""
        }
       ],
       "type": "table"
      }
     },
     "output_type": "display_data"
    }
   ],
   "source": [
    "%sql\n",
    "select * from bookings limit 3"
   ]
  },
  {
   "cell_type": "markdown",
   "metadata": {
    "application/vnd.databricks.v1+cell": {
     "inputWidgets": {},
     "nuid": "46c3c4ad-b33c-4c42-a269-7561a807acf7",
     "showTitle": false,
     "title": ""
    }
   },
   "source": [
    "#### Q1: Some of the facilities charge a fee to members, but some do not. Please list the names of the facilities that do."
   ]
  },
  {
   "cell_type": "code",
   "execution_count": 0,
   "metadata": {
    "application/vnd.databricks.v1+cell": {
     "inputWidgets": {},
     "nuid": "13d83bdd-fb87-4bd1-862a-80bcd9cbffee",
     "showTitle": false,
     "title": ""
    }
   },
   "outputs": [
    {
     "data": {
      "text/html": [
       "<style scoped>\n",
       "  .table-result-container {\n",
       "    max-height: 300px;\n",
       "    overflow: auto;\n",
       "  }\n",
       "  table, th, td {\n",
       "    border: 1px solid black;\n",
       "    border-collapse: collapse;\n",
       "  }\n",
       "  th, td {\n",
       "    padding: 5px;\n",
       "  }\n",
       "  th {\n",
       "    text-align: left;\n",
       "  }\n",
       "</style><div class='table-result-container'><table class='table-result'><thead style='background-color: white'><tr><th>name</th></tr></thead><tbody><tr><td>Tennis Court 1</td></tr><tr><td>Tennis Court 2</td></tr><tr><td>Massage Room 1</td></tr><tr><td>Massage Room 2</td></tr><tr><td>Squash Court</td></tr></tbody></table></div>"
      ]
     },
     "metadata": {
      "application/vnd.databricks.v1+output": {
       "addedWidgets": {},
       "aggData": [],
       "aggError": "",
       "aggOverflow": false,
       "aggSchema": [],
       "aggSeriesLimitReached": false,
       "aggType": "",
       "arguments": {},
       "columnCustomDisplayInfos": {},
       "data": [
        [
         "Tennis Court 1"
        ],
        [
         "Tennis Court 2"
        ],
        [
         "Massage Room 1"
        ],
        [
         "Massage Room 2"
        ],
        [
         "Squash Court"
        ]
       ],
       "datasetInfos": [],
       "dbfsResultPath": null,
       "isJsonSchema": true,
       "metadata": {},
       "overflow": false,
       "plotOptions": {
        "customPlotOptions": {},
        "displayType": "table",
        "pivotAggregation": null,
        "pivotColumns": [],
        "xColumns": [],
        "yColumns": []
       },
       "removedWidgets": [],
       "schema": [
        {
         "metadata": "{}",
         "name": "name",
         "type": "\"string\""
        }
       ],
       "type": "table"
      }
     },
     "output_type": "display_data"
    }
   ],
   "source": [
    "%sql\n",
    "select name from facilities where membercost > 0;"
   ]
  },
  {
   "cell_type": "markdown",
   "metadata": {
    "application/vnd.databricks.v1+cell": {
     "inputWidgets": {},
     "nuid": "6ac243fc-3fe1-4cf2-995d-4ebcefe0381d",
     "showTitle": false,
     "title": ""
    }
   },
   "source": [
    "####  Q2: How many facilities do not charge a fee to members?"
   ]
  },
  {
   "cell_type": "code",
   "execution_count": 0,
   "metadata": {
    "application/vnd.databricks.v1+cell": {
     "inputWidgets": {},
     "nuid": "99fa6389-7e64-4a5e-befe-71527188db30",
     "showTitle": false,
     "title": ""
    }
   },
   "outputs": [
    {
     "data": {
      "text/html": [
       "<style scoped>\n",
       "  .table-result-container {\n",
       "    max-height: 300px;\n",
       "    overflow: auto;\n",
       "  }\n",
       "  table, th, td {\n",
       "    border: 1px solid black;\n",
       "    border-collapse: collapse;\n",
       "  }\n",
       "  th, td {\n",
       "    padding: 5px;\n",
       "  }\n",
       "  th {\n",
       "    text-align: left;\n",
       "  }\n",
       "</style><div class='table-result-container'><table class='table-result'><thead style='background-color: white'><tr><th>count(1)</th></tr></thead><tbody><tr><td>4</td></tr></tbody></table></div>"
      ]
     },
     "metadata": {
      "application/vnd.databricks.v1+output": {
       "addedWidgets": {},
       "aggData": [],
       "aggError": "",
       "aggOverflow": false,
       "aggSchema": [],
       "aggSeriesLimitReached": false,
       "aggType": "",
       "arguments": {},
       "columnCustomDisplayInfos": {},
       "data": [
        [
         4
        ]
       ],
       "datasetInfos": [],
       "dbfsResultPath": null,
       "isJsonSchema": true,
       "metadata": {},
       "overflow": false,
       "plotOptions": {
        "customPlotOptions": {},
        "displayType": "table",
        "pivotAggregation": null,
        "pivotColumns": [],
        "xColumns": [],
        "yColumns": []
       },
       "removedWidgets": [],
       "schema": [
        {
         "metadata": "{}",
         "name": "count(1)",
         "type": "\"long\""
        }
       ],
       "type": "table"
      }
     },
     "output_type": "display_data"
    }
   ],
   "source": [
    "%sql\n",
    "select count(*) from facilities where  membercost = 0.0;"
   ]
  },
  {
   "cell_type": "markdown",
   "metadata": {
    "application/vnd.databricks.v1+cell": {
     "inputWidgets": {},
     "nuid": "d4cd03d7-2ca3-47cb-b437-4ea36e3e717c",
     "showTitle": false,
     "title": ""
    }
   },
   "source": [
    "#### Q3: How can you produce a list of facilities that charge a fee to members, where the fee is less than 20% of the facility's monthly maintenance cost? \n",
    "#### Return the facid, facility name, member cost, and monthly maintenance of the facilities in question."
   ]
  },
  {
   "cell_type": "code",
   "execution_count": 0,
   "metadata": {
    "application/vnd.databricks.v1+cell": {
     "inputWidgets": {},
     "nuid": "28f26179-c791-4130-ba33-a3dc49f9f759",
     "showTitle": false,
     "title": ""
    }
   },
   "outputs": [
    {
     "data": {
      "text/html": [
       "<style scoped>\n",
       "  .table-result-container {\n",
       "    max-height: 300px;\n",
       "    overflow: auto;\n",
       "  }\n",
       "  table, th, td {\n",
       "    border: 1px solid black;\n",
       "    border-collapse: collapse;\n",
       "  }\n",
       "  th, td {\n",
       "    padding: 5px;\n",
       "  }\n",
       "  th {\n",
       "    text-align: left;\n",
       "  }\n",
       "</style><div class='table-result-container'><table class='table-result'><thead style='background-color: white'><tr><th>facid</th><th>name</th><th>membercost</th><th>monthlymaintenance</th></tr></thead><tbody><tr><td>0</td><td>Tennis Court 1</td><td>5.0</td><td>200</td></tr><tr><td>1</td><td>Tennis Court 2</td><td>5.0</td><td>200</td></tr><tr><td>2</td><td>Badminton Court</td><td>0.0</td><td>50</td></tr><tr><td>3</td><td>Table Tennis</td><td>0.0</td><td>10</td></tr><tr><td>4</td><td>Massage Room 1</td><td>9.9</td><td>3000</td></tr><tr><td>5</td><td>Massage Room 2</td><td>9.9</td><td>3000</td></tr><tr><td>6</td><td>Squash Court</td><td>3.5</td><td>80</td></tr><tr><td>7</td><td>Snooker Table</td><td>0.0</td><td>15</td></tr><tr><td>8</td><td>Pool Table</td><td>0.0</td><td>15</td></tr></tbody></table></div>"
      ]
     },
     "metadata": {
      "application/vnd.databricks.v1+output": {
       "addedWidgets": {},
       "aggData": [],
       "aggError": "",
       "aggOverflow": false,
       "aggSchema": [],
       "aggSeriesLimitReached": false,
       "aggType": "",
       "arguments": {},
       "columnCustomDisplayInfos": {},
       "data": [
        [
         0,
         "Tennis Court 1",
         5,
         200
        ],
        [
         1,
         "Tennis Court 2",
         5,
         200
        ],
        [
         2,
         "Badminton Court",
         0,
         50
        ],
        [
         3,
         "Table Tennis",
         0,
         10
        ],
        [
         4,
         "Massage Room 1",
         9.9,
         3000
        ],
        [
         5,
         "Massage Room 2",
         9.9,
         3000
        ],
        [
         6,
         "Squash Court",
         3.5,
         80
        ],
        [
         7,
         "Snooker Table",
         0,
         15
        ],
        [
         8,
         "Pool Table",
         0,
         15
        ]
       ],
       "datasetInfos": [],
       "dbfsResultPath": null,
       "isJsonSchema": true,
       "metadata": {},
       "overflow": false,
       "plotOptions": {
        "customPlotOptions": {},
        "displayType": "table",
        "pivotAggregation": null,
        "pivotColumns": [],
        "xColumns": [],
        "yColumns": []
       },
       "removedWidgets": [],
       "schema": [
        {
         "metadata": "{}",
         "name": "facid",
         "type": "\"integer\""
        },
        {
         "metadata": "{}",
         "name": "name",
         "type": "\"string\""
        },
        {
         "metadata": "{}",
         "name": "membercost",
         "type": "\"double\""
        },
        {
         "metadata": "{}",
         "name": "monthlymaintenance",
         "type": "\"integer\""
        }
       ],
       "type": "table"
      }
     },
     "output_type": "display_data"
    }
   ],
   "source": [
    "%sql\n",
    "select facid,name,membercost,monthlymaintenance from facilities where .2 * monthlymaintenance > membercost;\n"
   ]
  },
  {
   "cell_type": "markdown",
   "metadata": {
    "application/vnd.databricks.v1+cell": {
     "inputWidgets": {},
     "nuid": "c78b9c99-5da7-487e-bc72-43e033b241e6",
     "showTitle": false,
     "title": ""
    }
   },
   "source": [
    "#### Q4: How can you retrieve the details of facilities with ID 1 and 5? Write the query without using the OR operator."
   ]
  },
  {
   "cell_type": "code",
   "execution_count": 0,
   "metadata": {
    "application/vnd.databricks.v1+cell": {
     "inputWidgets": {},
     "nuid": "3ce93502-f0ca-4f8e-b5f7-762b73277489",
     "showTitle": false,
     "title": ""
    }
   },
   "outputs": [
    {
     "data": {
      "text/html": [
       "<style scoped>\n",
       "  .table-result-container {\n",
       "    max-height: 300px;\n",
       "    overflow: auto;\n",
       "  }\n",
       "  table, th, td {\n",
       "    border: 1px solid black;\n",
       "    border-collapse: collapse;\n",
       "  }\n",
       "  th, td {\n",
       "    padding: 5px;\n",
       "  }\n",
       "  th {\n",
       "    text-align: left;\n",
       "  }\n",
       "</style><div class='table-result-container'><table class='table-result'><thead style='background-color: white'><tr><th>facid</th><th>name</th><th>membercost</th><th>guestcost</th><th>initialoutlay</th><th>monthlymaintenance</th></tr></thead><tbody><tr><td>1</td><td>Tennis Court 2</td><td>5.0</td><td>25.0</td><td>8000</td><td>200</td></tr><tr><td>5</td><td>Massage Room 2</td><td>9.9</td><td>80.0</td><td>4000</td><td>3000</td></tr></tbody></table></div>"
      ]
     },
     "metadata": {
      "application/vnd.databricks.v1+output": {
       "addedWidgets": {},
       "aggData": [],
       "aggError": "",
       "aggOverflow": false,
       "aggSchema": [],
       "aggSeriesLimitReached": false,
       "aggType": "",
       "arguments": {},
       "columnCustomDisplayInfos": {},
       "data": [
        [
         1,
         "Tennis Court 2",
         5,
         25,
         8000,
         200
        ],
        [
         5,
         "Massage Room 2",
         9.9,
         80,
         4000,
         3000
        ]
       ],
       "datasetInfos": [],
       "dbfsResultPath": null,
       "isJsonSchema": true,
       "metadata": {},
       "overflow": false,
       "plotOptions": {
        "customPlotOptions": {},
        "displayType": "table",
        "pivotAggregation": null,
        "pivotColumns": [],
        "xColumns": [],
        "yColumns": []
       },
       "removedWidgets": [],
       "schema": [
        {
         "metadata": "{}",
         "name": "facid",
         "type": "\"integer\""
        },
        {
         "metadata": "{}",
         "name": "name",
         "type": "\"string\""
        },
        {
         "metadata": "{}",
         "name": "membercost",
         "type": "\"double\""
        },
        {
         "metadata": "{}",
         "name": "guestcost",
         "type": "\"double\""
        },
        {
         "metadata": "{}",
         "name": "initialoutlay",
         "type": "\"integer\""
        },
        {
         "metadata": "{}",
         "name": "monthlymaintenance",
         "type": "\"integer\""
        }
       ],
       "type": "table"
      }
     },
     "output_type": "display_data"
    }
   ],
   "source": [
    "%sql\n",
    "select * from facilities where facid in (1,5);"
   ]
  },
  {
   "cell_type": "markdown",
   "metadata": {
    "application/vnd.databricks.v1+cell": {
     "inputWidgets": {},
     "nuid": "42f47106-2214-471c-a182-7f802e427385",
     "showTitle": false,
     "title": ""
    }
   },
   "source": [
    "#### Q5: How can you produce a list of facilities, with each labelled as 'cheap' or 'expensive', depending on if their monthly maintenance cost is more than $100? \n",
    "#### Return the name and monthly maintenance of the facilities in question."
   ]
  },
  {
   "cell_type": "code",
   "execution_count": 0,
   "metadata": {
    "application/vnd.databricks.v1+cell": {
     "inputWidgets": {},
     "nuid": "036c2e19-3fad-4572-a2ed-57e82da129b5",
     "showTitle": false,
     "title": ""
    }
   },
   "outputs": [
    {
     "data": {
      "text/html": [
       "<style scoped>\n",
       "  .table-result-container {\n",
       "    max-height: 300px;\n",
       "    overflow: auto;\n",
       "  }\n",
       "  table, th, td {\n",
       "    border: 1px solid black;\n",
       "    border-collapse: collapse;\n",
       "  }\n",
       "  th, td {\n",
       "    padding: 5px;\n",
       "  }\n",
       "  th {\n",
       "    text-align: left;\n",
       "  }\n",
       "</style><div class='table-result-container'><table class='table-result'><thead style='background-color: white'><tr><th>name</th><th>monthlymaintenance</th><th>cheap_or_expensive</th></tr></thead><tbody><tr><td>Tennis Court 1</td><td>200</td><td>expensive</td></tr><tr><td>Tennis Court 2</td><td>200</td><td>expensive</td></tr><tr><td>Badminton Court</td><td>50</td><td>cheap</td></tr><tr><td>Table Tennis</td><td>10</td><td>cheap</td></tr><tr><td>Massage Room 1</td><td>3000</td><td>expensive</td></tr><tr><td>Massage Room 2</td><td>3000</td><td>expensive</td></tr><tr><td>Squash Court</td><td>80</td><td>cheap</td></tr><tr><td>Snooker Table</td><td>15</td><td>cheap</td></tr><tr><td>Pool Table</td><td>15</td><td>cheap</td></tr></tbody></table></div>"
      ]
     },
     "metadata": {
      "application/vnd.databricks.v1+output": {
       "addedWidgets": {},
       "aggData": [],
       "aggError": "",
       "aggOverflow": false,
       "aggSchema": [],
       "aggSeriesLimitReached": false,
       "aggType": "",
       "arguments": {},
       "columnCustomDisplayInfos": {},
       "data": [
        [
         "Tennis Court 1",
         200,
         "expensive"
        ],
        [
         "Tennis Court 2",
         200,
         "expensive"
        ],
        [
         "Badminton Court",
         50,
         "cheap"
        ],
        [
         "Table Tennis",
         10,
         "cheap"
        ],
        [
         "Massage Room 1",
         3000,
         "expensive"
        ],
        [
         "Massage Room 2",
         3000,
         "expensive"
        ],
        [
         "Squash Court",
         80,
         "cheap"
        ],
        [
         "Snooker Table",
         15,
         "cheap"
        ],
        [
         "Pool Table",
         15,
         "cheap"
        ]
       ],
       "datasetInfos": [],
       "dbfsResultPath": null,
       "isJsonSchema": true,
       "metadata": {},
       "overflow": false,
       "plotOptions": {
        "customPlotOptions": {},
        "displayType": "table",
        "pivotAggregation": null,
        "pivotColumns": [],
        "xColumns": [],
        "yColumns": []
       },
       "removedWidgets": [],
       "schema": [
        {
         "metadata": "{}",
         "name": "name",
         "type": "\"string\""
        },
        {
         "metadata": "{}",
         "name": "monthlymaintenance",
         "type": "\"integer\""
        },
        {
         "metadata": "{}",
         "name": "cheap_or_expensive",
         "type": "\"string\""
        }
       ],
       "type": "table"
      }
     },
     "output_type": "display_data"
    }
   ],
   "source": [
    "%sql\n",
    "select name,monthlymaintenance, case when monthlymaintenance > 100 then 'expensive' else 'cheap' end as cheap_or_expensive from facilities;"
   ]
  },
  {
   "cell_type": "markdown",
   "metadata": {
    "application/vnd.databricks.v1+cell": {
     "inputWidgets": {},
     "nuid": "3ba9e265-c03e-40fc-9586-ce19bb7205ac",
     "showTitle": false,
     "title": ""
    }
   },
   "source": [
    "#### Q6: You'd like to get the first and last name of the last member(s) who signed up. Do not use the LIMIT clause for your solution."
   ]
  },
  {
   "cell_type": "code",
   "execution_count": 0,
   "metadata": {
    "application/vnd.databricks.v1+cell": {
     "inputWidgets": {},
     "nuid": "715d05b2-e99b-4558-9ef3-685935639645",
     "showTitle": false,
     "title": ""
    }
   },
   "outputs": [
    {
     "data": {
      "text/html": [
       "<style scoped>\n",
       "  .table-result-container {\n",
       "    max-height: 300px;\n",
       "    overflow: auto;\n",
       "  }\n",
       "  table, th, td {\n",
       "    border: 1px solid black;\n",
       "    border-collapse: collapse;\n",
       "  }\n",
       "  th, td {\n",
       "    padding: 5px;\n",
       "  }\n",
       "  th {\n",
       "    text-align: left;\n",
       "  }\n",
       "</style><div class='table-result-container'><table class='table-result'><thead style='background-color: white'><tr><th>firstname</th><th>surname</th><th>joindate</th></tr></thead><tbody><tr><td>Darren</td><td>Smith</td><td>2012-09-26 18:08:45</td></tr><tr><td>Erica</td><td>Crumpet</td><td>2012-09-22 08:36:38</td></tr><tr><td>John</td><td>Hunt</td><td>2012-09-19 11:32:45</td></tr><tr><td>Hyacinth</td><td>Tupperware</td><td>2012-09-18 19:32:05</td></tr><tr><td>Millicent</td><td>Purview</td><td>2012-09-18 19:04:01</td></tr><tr><td>Henry</td><td>Worthington-Smyth</td><td>2012-09-17 12:27:15</td></tr><tr><td>David</td><td>Farrell</td><td>2012-09-15 08:22:05</td></tr><tr><td>Henrietta</td><td>Rumney</td><td>2012-09-05 08:42:35</td></tr><tr><td>Douglas</td><td>Jones</td><td>2012-09-02 18:43:05</td></tr><tr><td>Ramnaresh</td><td>Sarwin</td><td>2012-09-01 08:44:42</td></tr><tr><td>Joan</td><td>Coplin</td><td>2012-08-29 08:32:41</td></tr><tr><td>Anna</td><td>Mackenzie</td><td>2012-08-26 09:32:05</td></tr><tr><td>Matthew</td><td>Genting</td><td>2012-08-19 14:55:55</td></tr><tr><td>David</td><td>Pinker</td><td>2012-08-16 11:32:47</td></tr><tr><td>Timothy</td><td>Baker</td><td>2012-08-15 10:34:25</td></tr><tr><td>Florence</td><td>Bader</td><td>2012-08-10 17:52:03</td></tr><tr><td>Jack</td><td>Smith</td><td>2012-08-10 16:22:05</td></tr><tr><td>Jemima</td><td>Farrell</td><td>2012-08-10 14:28:01</td></tr><tr><td>Anne</td><td>Baker</td><td>2012-08-10 14:23:22</td></tr><tr><td>David</td><td>Jones</td><td>2012-08-06 16:32:55</td></tr><tr><td>Charles</td><td>Owen</td><td>2012-08-03 19:42:37</td></tr><tr><td>Ponder</td><td>Stibbons</td><td>2012-07-25 17:09:05</td></tr><tr><td>Tim</td><td>Boothe</td><td>2012-07-25 16:02:35</td></tr><tr><td>Nancy</td><td>Dare</td><td>2012-07-25 08:59:12</td></tr><tr><td>Burton</td><td>Tracy</td><td>2012-07-15 08:52:55</td></tr><tr><td>Gerald</td><td>Butters</td><td>2012-07-09 10:44:09</td></tr><tr><td>Janice</td><td>Joplette</td><td>2012-07-03 10:25:05</td></tr><tr><td>Tim</td><td>Rownam</td><td>2012-07-03 09:32:15</td></tr><tr><td>Tracy</td><td>Smith</td><td>2012-07-02 12:08:23</td></tr><tr><td>Darren</td><td>Smith</td><td>2012-07-02 12:02:05</td></tr><tr><td>GUEST</td><td>GUEST</td><td>2012-07-01 00:00:00</td></tr></tbody></table></div>"
      ]
     },
     "metadata": {
      "application/vnd.databricks.v1+output": {
       "addedWidgets": {},
       "aggData": [],
       "aggError": "",
       "aggOverflow": false,
       "aggSchema": [],
       "aggSeriesLimitReached": false,
       "aggType": "",
       "arguments": {},
       "columnCustomDisplayInfos": {},
       "data": [
        [
         "Darren",
         "Smith",
         "2012-09-26 18:08:45"
        ],
        [
         "Erica",
         "Crumpet",
         "2012-09-22 08:36:38"
        ],
        [
         "John",
         "Hunt",
         "2012-09-19 11:32:45"
        ],
        [
         "Hyacinth",
         "Tupperware",
         "2012-09-18 19:32:05"
        ],
        [
         "Millicent",
         "Purview",
         "2012-09-18 19:04:01"
        ],
        [
         "Henry",
         "Worthington-Smyth",
         "2012-09-17 12:27:15"
        ],
        [
         "David",
         "Farrell",
         "2012-09-15 08:22:05"
        ],
        [
         "Henrietta",
         "Rumney",
         "2012-09-05 08:42:35"
        ],
        [
         "Douglas",
         "Jones",
         "2012-09-02 18:43:05"
        ],
        [
         "Ramnaresh",
         "Sarwin",
         "2012-09-01 08:44:42"
        ],
        [
         "Joan",
         "Coplin",
         "2012-08-29 08:32:41"
        ],
        [
         "Anna",
         "Mackenzie",
         "2012-08-26 09:32:05"
        ],
        [
         "Matthew",
         "Genting",
         "2012-08-19 14:55:55"
        ],
        [
         "David",
         "Pinker",
         "2012-08-16 11:32:47"
        ],
        [
         "Timothy",
         "Baker",
         "2012-08-15 10:34:25"
        ],
        [
         "Florence",
         "Bader",
         "2012-08-10 17:52:03"
        ],
        [
         "Jack",
         "Smith",
         "2012-08-10 16:22:05"
        ],
        [
         "Jemima",
         "Farrell",
         "2012-08-10 14:28:01"
        ],
        [
         "Anne",
         "Baker",
         "2012-08-10 14:23:22"
        ],
        [
         "David",
         "Jones",
         "2012-08-06 16:32:55"
        ],
        [
         "Charles",
         "Owen",
         "2012-08-03 19:42:37"
        ],
        [
         "Ponder",
         "Stibbons",
         "2012-07-25 17:09:05"
        ],
        [
         "Tim",
         "Boothe",
         "2012-07-25 16:02:35"
        ],
        [
         "Nancy",
         "Dare",
         "2012-07-25 08:59:12"
        ],
        [
         "Burton",
         "Tracy",
         "2012-07-15 08:52:55"
        ],
        [
         "Gerald",
         "Butters",
         "2012-07-09 10:44:09"
        ],
        [
         "Janice",
         "Joplette",
         "2012-07-03 10:25:05"
        ],
        [
         "Tim",
         "Rownam",
         "2012-07-03 09:32:15"
        ],
        [
         "Tracy",
         "Smith",
         "2012-07-02 12:08:23"
        ],
        [
         "Darren",
         "Smith",
         "2012-07-02 12:02:05"
        ],
        [
         "GUEST",
         "GUEST",
         "2012-07-01 00:00:00"
        ]
       ],
       "datasetInfos": [],
       "dbfsResultPath": null,
       "isJsonSchema": true,
       "metadata": {},
       "overflow": false,
       "plotOptions": {
        "customPlotOptions": {},
        "displayType": "table",
        "pivotAggregation": null,
        "pivotColumns": [],
        "xColumns": [],
        "yColumns": []
       },
       "removedWidgets": [],
       "schema": [
        {
         "metadata": "{}",
         "name": "firstname",
         "type": "\"string\""
        },
        {
         "metadata": "{}",
         "name": "surname",
         "type": "\"string\""
        },
        {
         "metadata": "{}",
         "name": "joindate",
         "type": "\"string\""
        }
       ],
       "type": "table"
      }
     },
     "output_type": "display_data"
    }
   ],
   "source": [
    "%sql\n",
    "select firstname,surname,joindate from members order by joindate desc;"
   ]
  },
  {
   "cell_type": "markdown",
   "metadata": {
    "application/vnd.databricks.v1+cell": {
     "inputWidgets": {},
     "nuid": "71b8d4a2-94f0-431c-8da1-beee98ae9ff5",
     "showTitle": false,
     "title": ""
    }
   },
   "source": [
    "####  Q7: How can you produce a list of all members who have used a tennis court?\n",
    "- Include in your output the name of the court, and the name of the member formatted as a single column. \n",
    "- Ensure no duplicate data\n",
    "- Also order by the member name."
   ]
  },
  {
   "cell_type": "code",
   "execution_count": 0,
   "metadata": {
    "application/vnd.databricks.v1+cell": {
     "inputWidgets": {},
     "nuid": "b2727e06-1ca7-42e3-ba68-a33e414bfe70",
     "showTitle": false,
     "title": ""
    }
   },
   "outputs": [
    {
     "data": {
      "text/html": [
       "<style scoped>\n",
       "  .table-result-container {\n",
       "    max-height: 300px;\n",
       "    overflow: auto;\n",
       "  }\n",
       "  table, th, td {\n",
       "    border: 1px solid black;\n",
       "    border-collapse: collapse;\n",
       "  }\n",
       "  th, td {\n",
       "    padding: 5px;\n",
       "  }\n",
       "  th {\n",
       "    text-align: left;\n",
       "  }\n",
       "</style><div class='table-result-container'><table class='table-result'><thead style='background-color: white'><tr><th>membername</th><th>name</th></tr></thead><tbody><tr><td>Anne Baker</td><td>Tennis Court 1</td></tr><tr><td>Anne Baker</td><td>Tennis Court 2</td></tr><tr><td>Burton Tracy</td><td>Tennis Court 2</td></tr><tr><td>Burton Tracy</td><td>Tennis Court 1</td></tr><tr><td>Charles Owen</td><td>Tennis Court 2</td></tr><tr><td>Charles Owen</td><td>Tennis Court 1</td></tr><tr><td>Darren Smith</td><td>Tennis Court 2</td></tr><tr><td>David Farrell</td><td>Tennis Court 2</td></tr><tr><td>David Farrell</td><td>Tennis Court 1</td></tr><tr><td>David Jones</td><td>Tennis Court 2</td></tr><tr><td>David Jones</td><td>Tennis Court 1</td></tr><tr><td>David Pinker</td><td>Tennis Court 1</td></tr><tr><td>Douglas Jones</td><td>Tennis Court 1</td></tr><tr><td>Erica Crumpet</td><td>Tennis Court 1</td></tr><tr><td>Florence Bader</td><td>Tennis Court 1</td></tr><tr><td>Florence Bader</td><td>Tennis Court 2</td></tr><tr><td>GUEST GUEST</td><td>Tennis Court 1</td></tr><tr><td>GUEST GUEST</td><td>Tennis Court 2</td></tr><tr><td>Gerald Butters</td><td>Tennis Court 1</td></tr><tr><td>Gerald Butters</td><td>Tennis Court 2</td></tr><tr><td>Henrietta Rumney</td><td>Tennis Court 2</td></tr><tr><td>Jack Smith</td><td>Tennis Court 2</td></tr><tr><td>Jack Smith</td><td>Tennis Court 1</td></tr><tr><td>Janice Joplette</td><td>Tennis Court 1</td></tr><tr><td>Janice Joplette</td><td>Tennis Court 2</td></tr><tr><td>Jemima Farrell</td><td>Tennis Court 2</td></tr><tr><td>Jemima Farrell</td><td>Tennis Court 1</td></tr><tr><td>Joan Coplin</td><td>Tennis Court 1</td></tr><tr><td>John Hunt</td><td>Tennis Court 2</td></tr><tr><td>John Hunt</td><td>Tennis Court 1</td></tr><tr><td>Matthew Genting</td><td>Tennis Court 1</td></tr><tr><td>Millicent Purview</td><td>Tennis Court 2</td></tr><tr><td>Nancy Dare</td><td>Tennis Court 2</td></tr><tr><td>Nancy Dare</td><td>Tennis Court 1</td></tr><tr><td>Ponder Stibbons</td><td>Tennis Court 1</td></tr><tr><td>Ponder Stibbons</td><td>Tennis Court 2</td></tr><tr><td>Ramnaresh Sarwin</td><td>Tennis Court 2</td></tr><tr><td>Ramnaresh Sarwin</td><td>Tennis Court 1</td></tr><tr><td>Tim Boothe</td><td>Tennis Court 1</td></tr><tr><td>Tim Boothe</td><td>Tennis Court 2</td></tr><tr><td>Tim Rownam</td><td>Tennis Court 2</td></tr><tr><td>Tim Rownam</td><td>Tennis Court 1</td></tr><tr><td>Timothy Baker</td><td>Tennis Court 1</td></tr><tr><td>Timothy Baker</td><td>Tennis Court 2</td></tr><tr><td>Tracy Smith</td><td>Tennis Court 2</td></tr><tr><td>Tracy Smith</td><td>Tennis Court 1</td></tr></tbody></table></div>"
      ]
     },
     "metadata": {
      "application/vnd.databricks.v1+output": {
       "addedWidgets": {},
       "aggData": [],
       "aggError": "",
       "aggOverflow": false,
       "aggSchema": [],
       "aggSeriesLimitReached": false,
       "aggType": "",
       "arguments": {},
       "columnCustomDisplayInfos": {},
       "data": [
        [
         "Anne Baker",
         "Tennis Court 1"
        ],
        [
         "Anne Baker",
         "Tennis Court 2"
        ],
        [
         "Burton Tracy",
         "Tennis Court 2"
        ],
        [
         "Burton Tracy",
         "Tennis Court 1"
        ],
        [
         "Charles Owen",
         "Tennis Court 2"
        ],
        [
         "Charles Owen",
         "Tennis Court 1"
        ],
        [
         "Darren Smith",
         "Tennis Court 2"
        ],
        [
         "David Farrell",
         "Tennis Court 2"
        ],
        [
         "David Farrell",
         "Tennis Court 1"
        ],
        [
         "David Jones",
         "Tennis Court 2"
        ],
        [
         "David Jones",
         "Tennis Court 1"
        ],
        [
         "David Pinker",
         "Tennis Court 1"
        ],
        [
         "Douglas Jones",
         "Tennis Court 1"
        ],
        [
         "Erica Crumpet",
         "Tennis Court 1"
        ],
        [
         "Florence Bader",
         "Tennis Court 1"
        ],
        [
         "Florence Bader",
         "Tennis Court 2"
        ],
        [
         "GUEST GUEST",
         "Tennis Court 1"
        ],
        [
         "GUEST GUEST",
         "Tennis Court 2"
        ],
        [
         "Gerald Butters",
         "Tennis Court 1"
        ],
        [
         "Gerald Butters",
         "Tennis Court 2"
        ],
        [
         "Henrietta Rumney",
         "Tennis Court 2"
        ],
        [
         "Jack Smith",
         "Tennis Court 2"
        ],
        [
         "Jack Smith",
         "Tennis Court 1"
        ],
        [
         "Janice Joplette",
         "Tennis Court 1"
        ],
        [
         "Janice Joplette",
         "Tennis Court 2"
        ],
        [
         "Jemima Farrell",
         "Tennis Court 2"
        ],
        [
         "Jemima Farrell",
         "Tennis Court 1"
        ],
        [
         "Joan Coplin",
         "Tennis Court 1"
        ],
        [
         "John Hunt",
         "Tennis Court 2"
        ],
        [
         "John Hunt",
         "Tennis Court 1"
        ],
        [
         "Matthew Genting",
         "Tennis Court 1"
        ],
        [
         "Millicent Purview",
         "Tennis Court 2"
        ],
        [
         "Nancy Dare",
         "Tennis Court 2"
        ],
        [
         "Nancy Dare",
         "Tennis Court 1"
        ],
        [
         "Ponder Stibbons",
         "Tennis Court 1"
        ],
        [
         "Ponder Stibbons",
         "Tennis Court 2"
        ],
        [
         "Ramnaresh Sarwin",
         "Tennis Court 2"
        ],
        [
         "Ramnaresh Sarwin",
         "Tennis Court 1"
        ],
        [
         "Tim Boothe",
         "Tennis Court 1"
        ],
        [
         "Tim Boothe",
         "Tennis Court 2"
        ],
        [
         "Tim Rownam",
         "Tennis Court 2"
        ],
        [
         "Tim Rownam",
         "Tennis Court 1"
        ],
        [
         "Timothy Baker",
         "Tennis Court 1"
        ],
        [
         "Timothy Baker",
         "Tennis Court 2"
        ],
        [
         "Tracy Smith",
         "Tennis Court 2"
        ],
        [
         "Tracy Smith",
         "Tennis Court 1"
        ]
       ],
       "datasetInfos": [],
       "dbfsResultPath": null,
       "isJsonSchema": true,
       "metadata": {},
       "overflow": false,
       "plotOptions": {
        "customPlotOptions": {},
        "displayType": "table",
        "pivotAggregation": null,
        "pivotColumns": [],
        "xColumns": [],
        "yColumns": []
       },
       "removedWidgets": [],
       "schema": [
        {
         "metadata": "{}",
         "name": "membername",
         "type": "\"string\""
        },
        {
         "metadata": "{}",
         "name": "name",
         "type": "\"string\""
        }
       ],
       "type": "table"
      }
     },
     "output_type": "display_data"
    }
   ],
   "source": [
    "%sql\n",
    "select distinct concat(m.firstname,' ',m.surname) as membername , f.name from members m, bookings b, facilities f where m.memid = b.memid and f.facid = b.facid and f.facid in (0,1) order by membername;"
   ]
  },
  {
   "cell_type": "markdown",
   "metadata": {
    "application/vnd.databricks.v1+cell": {
     "inputWidgets": {},
     "nuid": "d8f0402b-d8b5-4c36-822b-57c3ce008da8",
     "showTitle": false,
     "title": ""
    }
   },
   "source": [
    "#### Q8: How can you produce a list of bookings on the day of 2012-09-14 which will cost the member (or guest) more than $30? \n",
    "\n",
    "- Remember that guests have different costs to members (the listed costs are per half-hour 'slot')\n",
    "- The guest user's ID is always 0. \n",
    "\n",
    "#### Include in your output the name of the facility, the name of the member formatted as a single column, and the cost.\n",
    "\n",
    "- Order by descending cost, and do not use any subqueries."
   ]
  },
  {
   "cell_type": "code",
   "execution_count": 0,
   "metadata": {
    "application/vnd.databricks.v1+cell": {
     "inputWidgets": {},
     "nuid": "1bce72fa-b77e-491e-893c-11cfe76da01c",
     "showTitle": false,
     "title": ""
    }
   },
   "outputs": [
    {
     "data": {
      "text/html": [
       "<style scoped>\n",
       "  .table-result-container {\n",
       "    max-height: 300px;\n",
       "    overflow: auto;\n",
       "  }\n",
       "  table, th, td {\n",
       "    border: 1px solid black;\n",
       "    border-collapse: collapse;\n",
       "  }\n",
       "  th, td {\n",
       "    padding: 5px;\n",
       "  }\n",
       "  th {\n",
       "    text-align: left;\n",
       "  }\n",
       "</style><div class='table-result-container'><table class='table-result'><thead style='background-color: white'><tr><th>facility_name</th><th>member_name</th><th>cost</th></tr></thead><tbody><tr><td>Massage Room 2</td><td>GUEST GUEST</td><td>320.0</td></tr><tr><td>Massage Room 1</td><td>GUEST GUEST</td><td>160.0</td></tr><tr><td>Massage Room 1</td><td>GUEST GUEST</td><td>160.0</td></tr><tr><td>Massage Room 1</td><td>GUEST GUEST</td><td>160.0</td></tr><tr><td>Tennis Court 2</td><td>GUEST GUEST</td><td>150.0</td></tr><tr><td>Tennis Court 2</td><td>GUEST GUEST</td><td>75.0</td></tr><tr><td>Tennis Court 1</td><td>GUEST GUEST</td><td>75.0</td></tr><tr><td>Tennis Court 1</td><td>GUEST GUEST</td><td>75.0</td></tr><tr><td>Squash Court</td><td>GUEST GUEST</td><td>70.0</td></tr><tr><td>Massage Room 1</td><td>Jemima Farrell</td><td>39.6</td></tr><tr><td>Squash Court</td><td>GUEST GUEST</td><td>35.0</td></tr><tr><td>Squash Court</td><td>GUEST GUEST</td><td>35.0</td></tr></tbody></table></div>"
      ]
     },
     "metadata": {
      "application/vnd.databricks.v1+output": {
       "addedWidgets": {},
       "aggData": [],
       "aggError": "",
       "aggOverflow": false,
       "aggSchema": [],
       "aggSeriesLimitReached": false,
       "aggType": "",
       "arguments": {},
       "columnCustomDisplayInfos": {},
       "data": [
        [
         "Massage Room 2",
         "GUEST GUEST",
         320
        ],
        [
         "Massage Room 1",
         "GUEST GUEST",
         160
        ],
        [
         "Massage Room 1",
         "GUEST GUEST",
         160
        ],
        [
         "Massage Room 1",
         "GUEST GUEST",
         160
        ],
        [
         "Tennis Court 2",
         "GUEST GUEST",
         150
        ],
        [
         "Tennis Court 2",
         "GUEST GUEST",
         75
        ],
        [
         "Tennis Court 1",
         "GUEST GUEST",
         75
        ],
        [
         "Tennis Court 1",
         "GUEST GUEST",
         75
        ],
        [
         "Squash Court",
         "GUEST GUEST",
         70
        ],
        [
         "Massage Room 1",
         "Jemima Farrell",
         39.6
        ],
        [
         "Squash Court",
         "GUEST GUEST",
         35
        ],
        [
         "Squash Court",
         "GUEST GUEST",
         35
        ]
       ],
       "datasetInfos": [],
       "dbfsResultPath": null,
       "isJsonSchema": true,
       "metadata": {},
       "overflow": false,
       "plotOptions": {
        "customPlotOptions": {},
        "displayType": "table",
        "pivotAggregation": null,
        "pivotColumns": [],
        "xColumns": [],
        "yColumns": []
       },
       "removedWidgets": [],
       "schema": [
        {
         "metadata": "{}",
         "name": "facility_name",
         "type": "\"string\""
        },
        {
         "metadata": "{}",
         "name": "member_name",
         "type": "\"string\""
        },
        {
         "metadata": "{}",
         "name": "cost",
         "type": "\"double\""
        }
       ],
       "type": "table"
      }
     },
     "output_type": "display_data"
    }
   ],
   "source": [
    "%sql\n",
    "select f.name as facility_name, \n",
    "concat(m.firstname,' ',m.surname) member_name,\n",
    "case when b.memid = 0 then f.guestcost * b.slots else f.membercost * b.slots end as cost  \n",
    "from bookings b, facilities f, members m\n",
    "where starttime between '2012-09-14' \n",
    "and '2012-09-15' \n",
    "and f.facid = b.facid \n",
    "and m.memid = b.memid \n",
    "and (case when b.memid = 0 then f.guestcost * b.slots else f.membercost * b.slots end ) > 30\n",
    "order by cost desc;"
   ]
  },
  {
   "cell_type": "markdown",
   "metadata": {
    "application/vnd.databricks.v1+cell": {
     "inputWidgets": {},
     "nuid": "a77f8918-b0fc-4ebd-b761-962cbcb228fc",
     "showTitle": false,
     "title": ""
    }
   },
   "source": [
    "#### Q9: This time, produce the same result as in Q8, but using a subquery."
   ]
  },
  {
   "cell_type": "code",
   "execution_count": 0,
   "metadata": {
    "application/vnd.databricks.v1+cell": {
     "inputWidgets": {},
     "nuid": "2a3fd4f7-49d5-45e1-973f-2fc69f7f860d",
     "showTitle": false,
     "title": ""
    }
   },
   "outputs": [
    {
     "data": {
      "text/html": [
       "<style scoped>\n",
       "  .table-result-container {\n",
       "    max-height: 300px;\n",
       "    overflow: auto;\n",
       "  }\n",
       "  table, th, td {\n",
       "    border: 1px solid black;\n",
       "    border-collapse: collapse;\n",
       "  }\n",
       "  th, td {\n",
       "    padding: 5px;\n",
       "  }\n",
       "  th {\n",
       "    text-align: left;\n",
       "  }\n",
       "</style><div class='table-result-container'><table class='table-result'><thead style='background-color: white'><tr><th>facid</th><th>cost</th></tr></thead><tbody><tr><td>0</td><td>15.0</td></tr><tr><td>0</td><td>15.0</td></tr><tr><td>0</td><td>15.0</td></tr><tr><td>0</td><td>15.0</td></tr><tr><td>0</td><td>75.0</td></tr><tr><td>0</td><td>15.0</td></tr><tr><td>0</td><td>75.0</td></tr><tr><td>1</td><td>30.0</td></tr><tr><td>1</td><td>30.0</td></tr><tr><td>1</td><td>75.0</td></tr><tr><td>1</td><td>150.0</td></tr><tr><td>2</td><td>0.0</td></tr><tr><td>2</td><td>0.0</td></tr><tr><td>2</td><td>0.0</td></tr><tr><td>2</td><td>0.0</td></tr><tr><td>2</td><td>0.0</td></tr><tr><td>3</td><td>0.0</td></tr><tr><td>3</td><td>0.0</td></tr><tr><td>3</td><td>0.0</td></tr><tr><td>3</td><td>0.0</td></tr><tr><td>4</td><td>19.8</td></tr><tr><td>4</td><td>160.0</td></tr><tr><td>4</td><td>19.8</td></tr><tr><td>4</td><td>19.8</td></tr><tr><td>4</td><td>160.0</td></tr><tr><td>4</td><td>39.6</td></tr><tr><td>4</td><td>160.0</td></tr><tr><td>4</td><td>19.8</td></tr><tr><td>4</td><td>19.8</td></tr><tr><td>5</td><td>19.8</td></tr><tr><td>5</td><td>320.0</td></tr><tr><td>6</td><td>7.0</td></tr><tr><td>6</td><td>70.0</td></tr><tr><td>6</td><td>35.0</td></tr><tr><td>6</td><td>7.0</td></tr><tr><td>6</td><td>35.0</td></tr><tr><td>6</td><td>7.0</td></tr><tr><td>6</td><td>7.0</td></tr><tr><td>7</td><td>0.0</td></tr><tr><td>7</td><td>0.0</td></tr><tr><td>7</td><td>0.0</td></tr><tr><td>7</td><td>0.0</td></tr><tr><td>7</td><td>0.0</td></tr><tr><td>8</td><td>0.0</td></tr><tr><td>8</td><td>0.0</td></tr><tr><td>8</td><td>0.0</td></tr><tr><td>8</td><td>0.0</td></tr><tr><td>8</td><td>0.0</td></tr><tr><td>8</td><td>0.0</td></tr><tr><td>8</td><td>0.0</td></tr><tr><td>8</td><td>0.0</td></tr><tr><td>8</td><td>0.0</td></tr><tr><td>8</td><td>0.0</td></tr><tr><td>8</td><td>0.0</td></tr><tr><td>8</td><td>0.0</td></tr><tr><td>8</td><td>0.0</td></tr><tr><td>8</td><td>0.0</td></tr><tr><td>8</td><td>0.0</td></tr><tr><td>8</td><td>0.0</td></tr><tr><td>8</td><td>0.0</td></tr><tr><td>8</td><td>0.0</td></tr><tr><td>8</td><td>0.0</td></tr></tbody></table></div>"
      ]
     },
     "metadata": {
      "application/vnd.databricks.v1+output": {
       "addedWidgets": {},
       "aggData": [],
       "aggError": "",
       "aggOverflow": false,
       "aggSchema": [],
       "aggSeriesLimitReached": false,
       "aggType": "",
       "arguments": {},
       "columnCustomDisplayInfos": {},
       "data": [
        [
         0,
         15
        ],
        [
         0,
         15
        ],
        [
         0,
         15
        ],
        [
         0,
         15
        ],
        [
         0,
         75
        ],
        [
         0,
         15
        ],
        [
         0,
         75
        ],
        [
         1,
         30
        ],
        [
         1,
         30
        ],
        [
         1,
         75
        ],
        [
         1,
         150
        ],
        [
         2,
         0
        ],
        [
         2,
         0
        ],
        [
         2,
         0
        ],
        [
         2,
         0
        ],
        [
         2,
         0
        ],
        [
         3,
         0
        ],
        [
         3,
         0
        ],
        [
         3,
         0
        ],
        [
         3,
         0
        ],
        [
         4,
         19.8
        ],
        [
         4,
         160
        ],
        [
         4,
         19.8
        ],
        [
         4,
         19.8
        ],
        [
         4,
         160
        ],
        [
         4,
         39.6
        ],
        [
         4,
         160
        ],
        [
         4,
         19.8
        ],
        [
         4,
         19.8
        ],
        [
         5,
         19.8
        ],
        [
         5,
         320
        ],
        [
         6,
         7
        ],
        [
         6,
         70
        ],
        [
         6,
         35
        ],
        [
         6,
         7
        ],
        [
         6,
         35
        ],
        [
         6,
         7
        ],
        [
         6,
         7
        ],
        [
         7,
         0
        ],
        [
         7,
         0
        ],
        [
         7,
         0
        ],
        [
         7,
         0
        ],
        [
         7,
         0
        ],
        [
         8,
         0
        ],
        [
         8,
         0
        ],
        [
         8,
         0
        ],
        [
         8,
         0
        ],
        [
         8,
         0
        ],
        [
         8,
         0
        ],
        [
         8,
         0
        ],
        [
         8,
         0
        ],
        [
         8,
         0
        ],
        [
         8,
         0
        ],
        [
         8,
         0
        ],
        [
         8,
         0
        ],
        [
         8,
         0
        ],
        [
         8,
         0
        ],
        [
         8,
         0
        ],
        [
         8,
         0
        ],
        [
         8,
         0
        ],
        [
         8,
         0
        ],
        [
         8,
         0
        ]
       ],
       "datasetInfos": [],
       "dbfsResultPath": null,
       "isJsonSchema": true,
       "metadata": {},
       "overflow": false,
       "plotOptions": {
        "customPlotOptions": {},
        "displayType": "table",
        "pivotAggregation": null,
        "pivotColumns": [],
        "xColumns": [],
        "yColumns": []
       },
       "removedWidgets": [],
       "schema": [
        {
         "metadata": "{}",
         "name": "facid",
         "type": "\"integer\""
        },
        {
         "metadata": "{}",
         "name": "cost",
         "type": "\"double\""
        }
       ],
       "type": "table"
      }
     },
     "output_type": "display_data"
    }
   ],
   "source": [
    "%sql\n",
    "\n",
    "select f.facid,case when b.memid = 0 then f.guestcost * b.slots else f.membercost * b.slots end as cost\n",
    "from bookings b, facilities f\n",
    "where starttime between '2012-09-14' \n",
    "and '2012-09-15' \n",
    "and f.facid = b.facid \n",
    "\n",
    "\n"
   ]
  },
  {
   "cell_type": "markdown",
   "metadata": {
    "application/vnd.databricks.v1+cell": {
     "inputWidgets": {},
     "nuid": "4ed4234d-db4c-4071-9d93-29596ceeb10f",
     "showTitle": false,
     "title": ""
    }
   },
   "source": [
    "#### Q10: Produce a list of facilities with a total revenue less than 1000.\n",
    "- The output should have facility name and total revenue, sorted by revenue. \n",
    "- Remember that there's a different cost for guests and members!"
   ]
  },
  {
   "cell_type": "code",
   "execution_count": 0,
   "metadata": {
    "application/vnd.databricks.v1+cell": {
     "inputWidgets": {},
     "nuid": "0576a9d5-5da2-4304-8ea9-5b95bac800b5",
     "showTitle": false,
     "title": ""
    }
   },
   "outputs": [
    {
     "data": {
      "text/html": [
       "<style scoped>\n",
       "  .table-result-container {\n",
       "    max-height: 300px;\n",
       "    overflow: auto;\n",
       "  }\n",
       "  table, th, td {\n",
       "    border: 1px solid black;\n",
       "    border-collapse: collapse;\n",
       "  }\n",
       "  th, td {\n",
       "    padding: 5px;\n",
       "  }\n",
       "  th {\n",
       "    text-align: left;\n",
       "  }\n",
       "</style><div class='table-result-container'><table class='table-result'><thead style='background-color: white'><tr><th>facid</th><th>name</th><th>totcost</th></tr></thead><tbody><tr><td>8</td><td>Pool Table</td><td>270.0</td></tr><tr><td>7</td><td>Snooker Table</td><td>240.0</td></tr><tr><td>3</td><td>Table Tennis</td><td>180.0</td></tr></tbody></table></div>"
      ]
     },
     "metadata": {
      "application/vnd.databricks.v1+output": {
       "addedWidgets": {},
       "aggData": [],
       "aggError": "",
       "aggOverflow": false,
       "aggSchema": [],
       "aggSeriesLimitReached": false,
       "aggType": "",
       "arguments": {},
       "columnCustomDisplayInfos": {},
       "data": [
        [
         8,
         "Pool Table",
         270
        ],
        [
         7,
         "Snooker Table",
         240
        ],
        [
         3,
         "Table Tennis",
         180
        ]
       ],
       "datasetInfos": [],
       "dbfsResultPath": null,
       "isJsonSchema": true,
       "metadata": {},
       "overflow": false,
       "plotOptions": {
        "customPlotOptions": {},
        "displayType": "table",
        "pivotAggregation": null,
        "pivotColumns": [],
        "xColumns": [],
        "yColumns": []
       },
       "removedWidgets": [],
       "schema": [
        {
         "metadata": "{}",
         "name": "facid",
         "type": "\"integer\""
        },
        {
         "metadata": "{}",
         "name": "name",
         "type": "\"string\""
        },
        {
         "metadata": "{}",
         "name": "totcost",
         "type": "\"double\""
        }
       ],
       "type": "table"
      }
     },
     "output_type": "display_data"
    }
   ],
   "source": [
    "%sql\n",
    "select f.facid,\n",
    "f.name,\n",
    "sum(case when b.memid = 0 then f.guestcost * b.slots else f.membercost * b.slots end) as totcost\n",
    "from bookings b,facilities f \n",
    "where b.facid = f.facid \n",
    "group by f.facid,f.name\n",
    "having totcost < 1000;\n"
   ]
  }
 ],
 "metadata": {
  "application/vnd.databricks.v1+notebook": {
   "dashboards": [],
   "language": "python",
   "notebookMetadata": {
    "pythonIndentUnit": 2
   },
   "notebookName": "Mini_Project_SQL_with_Spark",
   "notebookOrigID": 3821872376207612,
   "widgets": {}
  },
  "kernelspec": {
   "display_name": "Python 3",
   "language": "python",
   "name": "python3"
  },
  "language_info": {
   "codemirror_mode": {
    "name": "ipython",
    "version": 3
   },
   "file_extension": ".py",
   "mimetype": "text/x-python",
   "name": "python",
   "nbconvert_exporter": "python",
   "pygments_lexer": "ipython3",
   "version": "3.8.5"
  },
  "name": "Mini_Project_SQL_with_Spark",
  "notebookId": 1931807081501742
 },
 "nbformat": 4,
 "nbformat_minor": 1
}
